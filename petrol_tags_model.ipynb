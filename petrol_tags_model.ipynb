{
 "cells": [
  {
   "attachments": {},
   "cell_type": "markdown",
   "metadata": {},
   "source": [
    "## Train on custiom data (detecting Orlen's Logo, Circle K's Logo and Price Tags)\n"
   ]
  },
  {
   "attachments": {},
   "cell_type": "markdown",
   "metadata": {},
   "source": [
    "## Setup the envirionment\n"
   ]
  },
  {
   "attachments": {},
   "cell_type": "markdown",
   "metadata": {},
   "source": [
    "### Manually\n",
    "To install necessary libraries we need a pip envirionemnt. To create one navigate to your project directory in cmd. Then run the commands:\n",
    "- Upgrade `pip` with: `python.exe -m pip install --upgrade pip`\n",
    "- `python -m venv env`\n",
    "- `/env/Scripts/activate`\n",
    "- Install the neccesary libraries. That is `ultralytics` and [`pytorch`](https://pytorch.org/get-started/locally/).\n",
    "- Install `ipykernel` and add it to the notebook.\n",
    "- pip install ipykernel\n",
    "-  python -m ipykernel install --name=env\n",
    "### Automatically\n",
    "- Create virtual envirionemt\n",
    "- `pip install -r requirements.txt`\n",
    "-  python -m ipykernel install --name=env"
   ]
  },
  {
   "attachments": {},
   "cell_type": "markdown",
   "metadata": {},
   "source": [
    "## Code!\n",
    "### Import libraries\n",
    "In order to use the `YOLO` model we import `ultralytics` library. It is very convienient, because now (for YOLO v8) we can use a pip package. We **do not need to clone the repository** any more. We also need to import  `ipykernel` in order to use `Jupyter Notebooks`."
   ]
  },
  {
   "cell_type": "code",
   "execution_count": 2,
   "metadata": {},
   "outputs": [],
   "source": [
    "import torch\n",
    "\n",
    "from ultralytics import YOLO\n",
    "from scripts import utils\n",
    "%matplotlib inline\n",
    "\n",
    "# Paths to train, validation and test data sets in YOLO format\n",
    "TRAIN_DIR = r'custom_data/roboflow/images/train'\n",
    "VAL_DIR = r'custom_data/roboflow/images/valid'\n",
    "TEST_DIR = r'custom_data/roboflow/images/test'"
   ]
  },
  {
   "attachments": {},
   "cell_type": "markdown",
   "metadata": {},
   "source": [
    "### Training\n",
    "For details on how to use the YOLO model check out [ultralytics documentation](https://docs.ultralytics.com/). The cell below will create a YOLO model and transfer pretrained weights. In the next line the model is trained. As the data atributte we specify `config.yaml`, because that is where the paths to data and class names are specified."
   ]
  },
  {
   "cell_type": "code",
   "execution_count": 2,
   "metadata": {},
   "outputs": [],
   "source": [
    "device = 0 if torch.cuda.is_available() else 'cpu'"
   ]
  },
  {
   "attachments": {},
   "cell_type": "markdown",
   "metadata": {},
   "source": [
    "As we can read on the [ultralytics docs page](https://docs.ultralytics.com/usage/cfg/#modes) ,,YOLO settings and hyperparameters play a critical role in the model's performance, speed, and accuracy. These settings and hyperparameters can affect the model's behavior at various stages of the model development process, including training, validation, and prediction\".\n"
   ]
  },
  {
   "cell_type": "code",
   "execution_count": 3,
   "metadata": {},
   "outputs": [],
   "source": [
    "YOLO_VERBOSE = False"
   ]
  },
  {
   "cell_type": "code",
   "execution_count": 4,
   "metadata": {},
   "outputs": [
    {
     "name": "stderr",
     "output_type": "stream",
     "text": [
      "\n",
      "                   from  n    params  module                                       arguments                     \n",
      "  0                  -1  1       464  ultralytics.nn.modules.conv.Conv             [3, 16, 3, 2]                 \n",
      "  1                  -1  1      4672  ultralytics.nn.modules.conv.Conv             [16, 32, 3, 2]                \n",
      "  2                  -1  1      7360  ultralytics.nn.modules.block.C2f             [32, 32, 1, True]             \n",
      "  3                  -1  1     18560  ultralytics.nn.modules.conv.Conv             [32, 64, 3, 2]                \n",
      "  4                  -1  2     49664  ultralytics.nn.modules.block.C2f             [64, 64, 2, True]             \n",
      "  5                  -1  1     73984  ultralytics.nn.modules.conv.Conv             [64, 128, 3, 2]               \n",
      "  6                  -1  2    197632  ultralytics.nn.modules.block.C2f             [128, 128, 2, True]           \n",
      "  7                  -1  1    295424  ultralytics.nn.modules.conv.Conv             [128, 256, 3, 2]              \n",
      "  8                  -1  1    460288  ultralytics.nn.modules.block.C2f             [256, 256, 1, True]           \n",
      "  9                  -1  1    164608  ultralytics.nn.modules.block.SPPF            [256, 256, 5]                 \n",
      " 10                  -1  1         0  torch.nn.modules.upsampling.Upsample         [None, 2, 'nearest']          \n",
      " 11             [-1, 6]  1         0  ultralytics.nn.modules.conv.Concat           [1]                           \n",
      " 12                  -1  1    148224  ultralytics.nn.modules.block.C2f             [384, 128, 1]                 \n",
      " 13                  -1  1         0  torch.nn.modules.upsampling.Upsample         [None, 2, 'nearest']          \n",
      " 14             [-1, 4]  1         0  ultralytics.nn.modules.conv.Concat           [1]                           \n",
      " 15                  -1  1     37248  ultralytics.nn.modules.block.C2f             [192, 64, 1]                  \n",
      " 16                  -1  1     36992  ultralytics.nn.modules.conv.Conv             [64, 64, 3, 2]                \n",
      " 17            [-1, 12]  1         0  ultralytics.nn.modules.conv.Concat           [1]                           \n",
      " 18                  -1  1    123648  ultralytics.nn.modules.block.C2f             [192, 128, 1]                 \n",
      " 19                  -1  1    147712  ultralytics.nn.modules.conv.Conv             [128, 128, 3, 2]              \n",
      " 20             [-1, 9]  1         0  ultralytics.nn.modules.conv.Concat           [1]                           \n",
      " 21                  -1  1    493056  ultralytics.nn.modules.block.C2f             [384, 256, 1]                 \n",
      " 22        [15, 18, 21]  1    897664  ultralytics.nn.modules.head.Detect           [80, [64, 128, 256]]          \n",
      "YOLOv8n summary: 225 layers, 3157200 parameters, 3157184 gradients\n",
      "\n",
      "Transferred 355/355 items from pretrained weights\n",
      "\u001b[34m\u001b[1mwandb\u001b[0m: \u001b[33mWARNING\u001b[0m The wandb callback is currently in beta and is subject to change based on updates to `ultralytics yolov8`.\n",
      "\u001b[34m\u001b[1mwandb\u001b[0m: \u001b[33mWARNING\u001b[0m         The callback is tested and supported for ultralytics v8.0.43 and above.\n",
      "\u001b[34m\u001b[1mwandb\u001b[0m: \u001b[33mWARNING\u001b[0m         Please report any issues to https://github.com/wandb/wandb/issues with the tag `yolov8`.\n",
      "\u001b[34m\u001b[1mwandb\u001b[0m: \u001b[33mWARNING\u001b[0m         \n"
     ]
    },
    {
     "data": {
      "text/plain": [
       "<ultralytics.yolo.engine.model.YOLO at 0x1ad7c4a71f0>"
      ]
     },
     "execution_count": 4,
     "metadata": {},
     "output_type": "execute_result"
    }
   ],
   "source": [
    "from wandb.integration.yolov8 import add_callbacks as add_wandb_callbacks\n",
    "\n",
    "model = YOLO('yolov8n.yaml').load('yolov8n.pt') # build from YAML and transfer weights\n",
    "model.to(device) # Send model to GPU if possible\n",
    "\n",
    "add_wandb_callbacks(model, project='petrol-prices-object-detection')"
   ]
  },
  {
   "cell_type": "code",
   "execution_count": 5,
   "metadata": {},
   "outputs": [
    {
     "name": "stderr",
     "output_type": "stream",
     "text": [
      "Ultralytics YOLOv8.0.117  Python-3.10.9 torch-2.0.1+cu117 CUDA:0 (NVIDIA GeForce GTX 1050 Ti, 4096MiB)\n",
      "\u001b[34m\u001b[1myolo\\engine\\trainer: \u001b[0mtask=detect, mode=train, model=yolov8n.yaml, data=configv2.yaml, epochs=100, patience=55, batch=16, imgsz=640, save=True, save_period=-1, cache=False, device=0, workers=8, project=None, name=None, exist_ok=False, pretrained=True, optimizer=auto, verbose=False, seed=42, deterministic=True, single_cls=False, rect=False, cos_lr=False, close_mosaic=0, resume=False, amp=True, fraction=1.0, profile=False, overlap_mask=True, mask_ratio=4, dropout=0.0, val=True, split=val, save_json=False, save_hybrid=False, conf=None, iou=0.7, max_det=300, half=False, dnn=False, plots=False, source=None, show=False, save_txt=False, save_conf=False, save_crop=False, show_labels=True, show_conf=True, vid_stride=1, line_width=None, visualize=False, augment=False, agnostic_nms=False, classes=None, retina_masks=False, boxes=True, format=torchscript, keras=False, optimize=False, int8=False, dynamic=False, simplify=False, opset=None, workspace=4, nms=False, lr0=0.01, lrf=0.01, momentum=0.937, weight_decay=0.0005, warmup_epochs=3.0, warmup_momentum=0.8, warmup_bias_lr=0.1, box=7.5, cls=0.5, dfl=1.5, pose=12.0, kobj=1.0, label_smoothing=0.0, nbs=64, hsv_h=0.015, hsv_s=0.7, hsv_v=0.4, degrees=0.0, translate=0.1, scale=0.5, shear=0.0, perspective=0.0, flipud=0.0, fliplr=0.5, mosaic=1.0, mixup=0.0, copy_paste=0.0, cfg=None, v5loader=False, tracker=botsort.yaml, save_dir=runs\\detect\\train4\n",
      "Overriding model.yaml nc=80 with nc=4\n",
      "\n",
      "                   from  n    params  module                                       arguments                     \n",
      "  0                  -1  1       464  ultralytics.nn.modules.conv.Conv             [3, 16, 3, 2]                 \n",
      "  1                  -1  1      4672  ultralytics.nn.modules.conv.Conv             [16, 32, 3, 2]                \n",
      "  2                  -1  1      7360  ultralytics.nn.modules.block.C2f             [32, 32, 1, True]             \n",
      "  3                  -1  1     18560  ultralytics.nn.modules.conv.Conv             [32, 64, 3, 2]                \n",
      "  4                  -1  2     49664  ultralytics.nn.modules.block.C2f             [64, 64, 2, True]             \n",
      "  5                  -1  1     73984  ultralytics.nn.modules.conv.Conv             [64, 128, 3, 2]               \n",
      "  6                  -1  2    197632  ultralytics.nn.modules.block.C2f             [128, 128, 2, True]           \n",
      "  7                  -1  1    295424  ultralytics.nn.modules.conv.Conv             [128, 256, 3, 2]              \n",
      "  8                  -1  1    460288  ultralytics.nn.modules.block.C2f             [256, 256, 1, True]           \n",
      "  9                  -1  1    164608  ultralytics.nn.modules.block.SPPF            [256, 256, 5]                 \n",
      " 10                  -1  1         0  torch.nn.modules.upsampling.Upsample         [None, 2, 'nearest']          \n",
      " 11             [-1, 6]  1         0  ultralytics.nn.modules.conv.Concat           [1]                           \n",
      " 12                  -1  1    148224  ultralytics.nn.modules.block.C2f             [384, 128, 1]                 \n",
      " 13                  -1  1         0  torch.nn.modules.upsampling.Upsample         [None, 2, 'nearest']          \n",
      " 14             [-1, 4]  1         0  ultralytics.nn.modules.conv.Concat           [1]                           \n",
      " 15                  -1  1     37248  ultralytics.nn.modules.block.C2f             [192, 64, 1]                  \n",
      " 16                  -1  1     36992  ultralytics.nn.modules.conv.Conv             [64, 64, 3, 2]                \n",
      " 17            [-1, 12]  1         0  ultralytics.nn.modules.conv.Concat           [1]                           \n",
      " 18                  -1  1    123648  ultralytics.nn.modules.block.C2f             [192, 128, 1]                 \n",
      " 19                  -1  1    147712  ultralytics.nn.modules.conv.Conv             [128, 128, 3, 2]              \n",
      " 20             [-1, 9]  1         0  ultralytics.nn.modules.conv.Concat           [1]                           \n",
      " 21                  -1  1    493056  ultralytics.nn.modules.block.C2f             [384, 256, 1]                 \n",
      " 22        [15, 18, 21]  1    752092  ultralytics.nn.modules.head.Detect           [4, [64, 128, 256]]           \n",
      "YOLOv8n summary: 225 layers, 3011628 parameters, 3011612 gradients\n",
      "\n",
      "Transferred 319/355 items from pretrained weights\n",
      "Failed to detect the name of this notebook, you can set it manually with the WANDB_NOTEBOOK_NAME environment variable to enable code saving.\n",
      "\u001b[34m\u001b[1mwandb\u001b[0m: Currently logged in as: \u001b[33mmygnirut\u001b[0m (\u001b[33mczarna_magia\u001b[0m). Use \u001b[1m`wandb login --relogin`\u001b[0m to force relogin\n"
     ]
    },
    {
     "data": {
      "text/html": [
       "Tracking run with wandb version 0.15.4"
      ],
      "text/plain": [
       "<IPython.core.display.HTML object>"
      ]
     },
     "metadata": {},
     "output_type": "display_data"
    },
    {
     "data": {
      "text/html": [
       "Run data is saved locally in <code>c:\\Users\\janek\\notebooks\\petrol-prices-object-detection\\wandb\\run-20230613_190022-5qq3n0pz</code>"
      ],
      "text/plain": [
       "<IPython.core.display.HTML object>"
      ]
     },
     "metadata": {},
     "output_type": "display_data"
    },
    {
     "data": {
      "text/html": [
       "Syncing run <strong><a href='https://wandb.ai/czarna_magia/petrol-prices-object-detection/runs/5qq3n0pz' target=\"_blank\">leafy-puddle-7</a></strong> to <a href='https://wandb.ai/czarna_magia/petrol-prices-object-detection' target=\"_blank\">Weights & Biases</a> (<a href='https://wandb.me/run' target=\"_blank\">docs</a>)<br/>"
      ],
      "text/plain": [
       "<IPython.core.display.HTML object>"
      ]
     },
     "metadata": {},
     "output_type": "display_data"
    },
    {
     "data": {
      "text/html": [
       " View project at <a href='https://wandb.ai/czarna_magia/petrol-prices-object-detection' target=\"_blank\">https://wandb.ai/czarna_magia/petrol-prices-object-detection</a>"
      ],
      "text/plain": [
       "<IPython.core.display.HTML object>"
      ]
     },
     "metadata": {},
     "output_type": "display_data"
    },
    {
     "data": {
      "text/html": [
       " View run at <a href='https://wandb.ai/czarna_magia/petrol-prices-object-detection/runs/5qq3n0pz' target=\"_blank\">https://wandb.ai/czarna_magia/petrol-prices-object-detection/runs/5qq3n0pz</a>"
      ],
      "text/plain": [
       "<IPython.core.display.HTML object>"
      ]
     },
     "metadata": {},
     "output_type": "display_data"
    },
    {
     "name": "stderr",
     "output_type": "stream",
     "text": [
      "\u001b[34m\u001b[1mAMP: \u001b[0mrunning Automatic Mixed Precision (AMP) checks with YOLOv8n...\n",
      "\u001b[34m\u001b[1mAMP: \u001b[0mchecks passed \n",
      "\u001b[34m\u001b[1mtrain: \u001b[0mScanning C:\\Users\\janek\\notebooks\\petrol-prices-object-detection\\custom_data\\roboflow\\dataset-v2\\train\\labels.cache... 100 images, 0 backgrounds, 0 corrupt: 100%|██████████| 100/100 [00:00<?, ?it/s]\n",
      "\u001b[34m\u001b[1mval: \u001b[0mScanning C:\\Users\\janek\\notebooks\\petrol-prices-object-detection\\custom_data\\roboflow\\dataset-v2\\valid\\labels.cache... 11 images, 0 backgrounds, 0 corrupt: 100%|██████████| 11/11 [00:00<?, ?it/s]\n",
      "\u001b[34m\u001b[1moptimizer:\u001b[0m AdamW(lr=0.00125, momentum=0.9) with parameter groups 57 weight(decay=0.0), 64 weight(decay=0.0005), 63 bias(decay=0.0)\n",
      "Image sizes 640 train, 640 val\n",
      "Using 8 dataloader workers\n",
      "Logging results to \u001b[1mruns\\detect\\train4\u001b[0m\n",
      "Starting training for 100 epochs...\n",
      "\n",
      "      Epoch    GPU_mem   box_loss   cls_loss   dfl_loss  Instances       Size\n",
      "      1/100      2.36G       1.67      4.392      1.543          7        640: 100%|██████████| 7/7 [00:26<00:00,  3.85s/it]\n",
      "                 Class     Images  Instances      Box(P          R      mAP50  mAP50-95): 100%|██████████| 1/1 [00:00<00:00,  2.39it/s]\n",
      "                   all         11         22    0.00275      0.558     0.0441     0.0334\n",
      "\n",
      "      Epoch    GPU_mem   box_loss   cls_loss   dfl_loss  Instances       Size\n",
      "      2/100      2.35G      1.483      4.045      1.447         11        640: 100%|██████████| 7/7 [00:03<00:00,  1.97it/s]\n",
      "                 Class     Images  Instances      Box(P          R      mAP50  mAP50-95): 100%|██████████| 1/1 [00:00<00:00,  3.95it/s]\n",
      "                   all         11         22     0.0109      0.812      0.114     0.0623\n",
      "\n",
      "      Epoch    GPU_mem   box_loss   cls_loss   dfl_loss  Instances       Size\n",
      "      3/100      2.36G      1.338      3.454      1.244         10        640: 100%|██████████| 7/7 [00:03<00:00,  1.95it/s]\n",
      "                 Class     Images  Instances      Box(P          R      mAP50  mAP50-95): 100%|██████████| 1/1 [00:00<00:00,  4.27it/s]\n",
      "                   all         11         22     0.0171      0.906      0.235      0.167\n",
      "\n",
      "      Epoch    GPU_mem   box_loss   cls_loss   dfl_loss  Instances       Size\n",
      "      4/100      2.35G      1.224      2.693      1.191          9        640: 100%|██████████| 7/7 [00:03<00:00,  1.97it/s]\n",
      "                 Class     Images  Instances      Box(P          R      mAP50  mAP50-95): 100%|██████████| 1/1 [00:00<00:00,  3.58it/s]\n",
      "                   all         11         22     0.0171      0.876      0.385      0.238\n",
      "\n",
      "      Epoch    GPU_mem   box_loss   cls_loss   dfl_loss  Instances       Size\n",
      "      5/100      2.36G      1.321      2.354      1.248         11        640: 100%|██████████| 7/7 [00:03<00:00,  1.98it/s]\n",
      "                 Class     Images  Instances      Box(P          R      mAP50  mAP50-95): 100%|██████████| 1/1 [00:00<00:00,  3.57it/s]\n",
      "                   all         11         22     0.0156      0.876      0.247       0.14\n",
      "\n",
      "      Epoch    GPU_mem   box_loss   cls_loss   dfl_loss  Instances       Size\n",
      "      6/100      2.35G      1.125      2.314      1.134         10        640: 100%|██████████| 7/7 [00:03<00:00,  1.97it/s]\n",
      "                 Class     Images  Instances      Box(P          R      mAP50  mAP50-95): 100%|██████████| 1/1 [00:00<00:00,  4.18it/s]\n",
      "                   all         11         22    0.00938      0.812      0.154     0.0755\n",
      "\n",
      "      Epoch    GPU_mem   box_loss   cls_loss   dfl_loss  Instances       Size\n",
      "      7/100      2.36G      1.113      2.012      1.152          8        640: 100%|██████████| 7/7 [00:03<00:00,  1.97it/s]\n",
      "                 Class     Images  Instances      Box(P          R      mAP50  mAP50-95): 100%|██████████| 1/1 [00:00<00:00,  4.36it/s]\n",
      "                   all         11         22      0.796     0.0333      0.288      0.192\n",
      "\n",
      "      Epoch    GPU_mem   box_loss   cls_loss   dfl_loss  Instances       Size\n",
      "      8/100      2.36G       1.12      2.094       1.12          9        640: 100%|██████████| 7/7 [00:03<00:00,  2.00it/s]\n",
      "                 Class     Images  Instances      Box(P          R      mAP50  mAP50-95): 100%|██████████| 1/1 [00:00<00:00,  4.03it/s]\n",
      "                   all         11         22      0.841      0.147      0.356      0.257\n",
      "\n",
      "      Epoch    GPU_mem   box_loss   cls_loss   dfl_loss  Instances       Size\n",
      "      9/100      2.36G      1.152      2.147      1.192          8        640: 100%|██████████| 7/7 [00:03<00:00,  1.98it/s]\n",
      "                 Class     Images  Instances      Box(P          R      mAP50  mAP50-95): 100%|██████████| 1/1 [00:00<00:00,  4.20it/s]\n",
      "                   all         11         22      0.755     0.0333      0.398      0.252\n",
      "\n",
      "      Epoch    GPU_mem   box_loss   cls_loss   dfl_loss  Instances       Size\n",
      "     10/100      2.35G      1.007      1.787       1.09          5        640: 100%|██████████| 7/7 [00:03<00:00,  1.98it/s]\n",
      "                 Class     Images  Instances      Box(P          R      mAP50  mAP50-95): 100%|██████████| 1/1 [00:00<00:00,  4.23it/s]\n",
      "                   all         11         22      0.765      0.125      0.364      0.214\n",
      "\n",
      "      Epoch    GPU_mem   box_loss   cls_loss   dfl_loss  Instances       Size\n",
      "     11/100      2.36G      1.068      1.684      1.094          7        640: 100%|██████████| 7/7 [00:03<00:00,  2.00it/s]\n",
      "                 Class     Images  Instances      Box(P          R      mAP50  mAP50-95): 100%|██████████| 1/1 [00:00<00:00,  4.13it/s]\n",
      "                   all         11         22       0.82      0.324      0.497      0.307\n",
      "\n",
      "      Epoch    GPU_mem   box_loss   cls_loss   dfl_loss  Instances       Size\n",
      "     12/100      2.36G      1.137      1.711      1.132         16        640: 100%|██████████| 7/7 [00:03<00:00,  2.03it/s]\n",
      "                 Class     Images  Instances      Box(P          R      mAP50  mAP50-95): 100%|██████████| 1/1 [00:00<00:00,  4.03it/s]\n",
      "                   all         11         22       0.89      0.399      0.521      0.326\n",
      "\n",
      "      Epoch    GPU_mem   box_loss   cls_loss   dfl_loss  Instances       Size\n",
      "     13/100      2.36G      1.041      1.611      1.134         14        640: 100%|██████████| 7/7 [00:04<00:00,  1.68it/s]\n",
      "                 Class     Images  Instances      Box(P          R      mAP50  mAP50-95): 100%|██████████| 1/1 [00:00<00:00,  4.15it/s]\n",
      "                   all         11         22      0.853      0.417      0.593      0.373\n",
      "\n",
      "      Epoch    GPU_mem   box_loss   cls_loss   dfl_loss  Instances       Size\n",
      "     14/100      2.36G      1.051      1.645      1.111         14        640: 100%|██████████| 7/7 [00:03<00:00,  1.98it/s]\n",
      "                 Class     Images  Instances      Box(P          R      mAP50  mAP50-95): 100%|██████████| 1/1 [00:00<00:00,  4.19it/s]\n",
      "                   all         11         22       0.78      0.611      0.714      0.336\n",
      "\n",
      "      Epoch    GPU_mem   box_loss   cls_loss   dfl_loss  Instances       Size\n",
      "     15/100      2.35G      1.141       1.58      1.138         14        640: 100%|██████████| 7/7 [00:03<00:00,  1.94it/s]\n",
      "                 Class     Images  Instances      Box(P          R      mAP50  mAP50-95): 100%|██████████| 1/1 [00:00<00:00,  3.80it/s]\n",
      "                   all         11         22      0.705      0.652      0.715      0.407\n",
      "\n",
      "      Epoch    GPU_mem   box_loss   cls_loss   dfl_loss  Instances       Size\n",
      "     16/100      2.36G      1.058      1.585      1.128          9        640: 100%|██████████| 7/7 [00:03<00:00,  1.96it/s]\n",
      "                 Class     Images  Instances      Box(P          R      mAP50  mAP50-95): 100%|██████████| 1/1 [00:00<00:00,  3.64it/s]\n",
      "                   all         11         22      0.812      0.743      0.824      0.477\n",
      "\n",
      "      Epoch    GPU_mem   box_loss   cls_loss   dfl_loss  Instances       Size\n",
      "     17/100      2.36G      1.039      1.692      1.114          4        640: 100%|██████████| 7/7 [00:03<00:00,  1.99it/s]\n",
      "                 Class     Images  Instances      Box(P          R      mAP50  mAP50-95): 100%|██████████| 1/1 [00:00<00:00,  3.99it/s]\n",
      "                   all         11         22      0.837      0.808      0.863      0.469\n",
      "\n",
      "      Epoch    GPU_mem   box_loss   cls_loss   dfl_loss  Instances       Size\n",
      "     18/100      2.36G      1.111      1.608      1.132          8        640: 100%|██████████| 7/7 [00:03<00:00,  1.95it/s]\n",
      "                 Class     Images  Instances      Box(P          R      mAP50  mAP50-95): 100%|██████████| 1/1 [00:00<00:00,  3.58it/s]\n",
      "                   all         11         22      0.885      0.721      0.884      0.485\n",
      "\n",
      "      Epoch    GPU_mem   box_loss   cls_loss   dfl_loss  Instances       Size\n",
      "     19/100      2.35G      1.116       1.55      1.162         13        640: 100%|██████████| 7/7 [00:03<00:00,  1.98it/s]\n",
      "                 Class     Images  Instances      Box(P          R      mAP50  mAP50-95): 100%|██████████| 1/1 [00:00<00:00,  3.46it/s]\n",
      "                   all         11         22      0.557      0.822      0.841      0.457\n",
      "\n",
      "      Epoch    GPU_mem   box_loss   cls_loss   dfl_loss  Instances       Size\n",
      "     20/100      2.36G      1.113      1.477      1.121         13        640: 100%|██████████| 7/7 [00:03<00:00,  2.00it/s]\n",
      "                 Class     Images  Instances      Box(P          R      mAP50  mAP50-95): 100%|██████████| 1/1 [00:00<00:00,  4.03it/s]\n",
      "                   all         11         22      0.711      0.688      0.796      0.486\n",
      "\n",
      "      Epoch    GPU_mem   box_loss   cls_loss   dfl_loss  Instances       Size\n",
      "     21/100      2.36G      0.963      1.298      1.071         15        640: 100%|██████████| 7/7 [00:03<00:00,  1.95it/s]\n",
      "                 Class     Images  Instances      Box(P          R      mAP50  mAP50-95): 100%|██████████| 1/1 [00:00<00:00,  3.95it/s]\n",
      "                   all         11         22      0.843      0.701      0.867       0.51\n",
      "\n",
      "      Epoch    GPU_mem   box_loss   cls_loss   dfl_loss  Instances       Size\n",
      "     22/100      2.36G      1.056      1.438      1.141          7        640: 100%|██████████| 7/7 [00:03<00:00,  1.87it/s]\n",
      "                 Class     Images  Instances      Box(P          R      mAP50  mAP50-95): 100%|██████████| 1/1 [00:00<00:00,  3.74it/s]\n",
      "                   all         11         22      0.918      0.649      0.823      0.552\n",
      "\n",
      "      Epoch    GPU_mem   box_loss   cls_loss   dfl_loss  Instances       Size\n",
      "     23/100      2.35G      1.045      1.384       1.08          7        640: 100%|██████████| 7/7 [00:04<00:00,  1.74it/s]\n",
      "                 Class     Images  Instances      Box(P          R      mAP50  mAP50-95): 100%|██████████| 1/1 [00:00<00:00,  2.56it/s]\n",
      "                   all         11         22      0.898      0.584      0.829      0.629\n",
      "\n",
      "      Epoch    GPU_mem   box_loss   cls_loss   dfl_loss  Instances       Size\n",
      "     24/100      2.36G      1.047      1.337      1.096         12        640: 100%|██████████| 7/7 [00:04<00:00,  1.72it/s]\n",
      "                 Class     Images  Instances      Box(P          R      mAP50  mAP50-95): 100%|██████████| 1/1 [00:00<00:00,  3.01it/s]\n",
      "                   all         11         22      0.622      0.764      0.616      0.434\n",
      "\n",
      "      Epoch    GPU_mem   box_loss   cls_loss   dfl_loss  Instances       Size\n",
      "     25/100      2.36G      1.068      1.304      1.132         16        640: 100%|██████████| 7/7 [00:03<00:00,  1.87it/s]\n",
      "                 Class     Images  Instances      Box(P          R      mAP50  mAP50-95): 100%|██████████| 1/1 [00:00<00:00,  3.61it/s]\n",
      "                   all         11         22      0.658      0.789       0.62      0.453\n",
      "\n",
      "      Epoch    GPU_mem   box_loss   cls_loss   dfl_loss  Instances       Size\n",
      "     26/100      2.36G      1.065      1.302      1.099          9        640: 100%|██████████| 7/7 [00:03<00:00,  1.84it/s]\n",
      "                 Class     Images  Instances      Box(P          R      mAP50  mAP50-95): 100%|██████████| 1/1 [00:00<00:00,  2.85it/s]\n",
      "                   all         11         22      0.769      0.764      0.686      0.467\n",
      "\n",
      "      Epoch    GPU_mem   box_loss   cls_loss   dfl_loss  Instances       Size\n",
      "     27/100      2.35G      1.068      1.284       1.12         18        640: 100%|██████████| 7/7 [00:03<00:00,  1.99it/s]\n",
      "                 Class     Images  Instances      Box(P          R      mAP50  mAP50-95): 100%|██████████| 1/1 [00:00<00:00,  3.91it/s]\n",
      "                   all         11         22       0.88      0.613      0.847      0.541\n",
      "\n",
      "      Epoch    GPU_mem   box_loss   cls_loss   dfl_loss  Instances       Size\n",
      "     28/100      2.36G      1.075      1.308       1.12          8        640: 100%|██████████| 7/7 [00:03<00:00,  2.00it/s]\n",
      "                 Class     Images  Instances      Box(P          R      mAP50  mAP50-95): 100%|██████████| 1/1 [00:00<00:00,  3.97it/s]\n",
      "                   all         11         22      0.731      0.881      0.866      0.549\n",
      "\n",
      "      Epoch    GPU_mem   box_loss   cls_loss   dfl_loss  Instances       Size\n",
      "     29/100      2.36G     0.9979      1.199      1.047         14        640: 100%|██████████| 7/7 [00:03<00:00,  2.03it/s]\n",
      "                 Class     Images  Instances      Box(P          R      mAP50  mAP50-95): 100%|██████████| 1/1 [00:00<00:00,  3.63it/s]\n",
      "                   all         11         22      0.768      0.903      0.888      0.571\n",
      "\n",
      "      Epoch    GPU_mem   box_loss   cls_loss   dfl_loss  Instances       Size\n",
      "     30/100      2.36G     0.9808      1.214      1.121          8        640: 100%|██████████| 7/7 [00:03<00:00,  1.83it/s]\n",
      "                 Class     Images  Instances      Box(P          R      mAP50  mAP50-95): 100%|██████████| 1/1 [00:00<00:00,  3.12it/s]\n",
      "                   all         11         22      0.904      0.812      0.903      0.599\n",
      "\n",
      "      Epoch    GPU_mem   box_loss   cls_loss   dfl_loss  Instances       Size\n",
      "     31/100      2.35G      1.012      1.199      1.091         16        640: 100%|██████████| 7/7 [00:03<00:00,  1.98it/s]\n",
      "                 Class     Images  Instances      Box(P          R      mAP50  mAP50-95): 100%|██████████| 1/1 [00:00<00:00,  4.13it/s]\n",
      "                   all         11         22      0.761      0.797       0.91      0.615\n",
      "\n",
      "      Epoch    GPU_mem   box_loss   cls_loss   dfl_loss  Instances       Size\n",
      "     32/100      2.36G     0.8619      1.124      1.023         10        640: 100%|██████████| 7/7 [00:03<00:00,  2.04it/s]\n",
      "                 Class     Images  Instances      Box(P          R      mAP50  mAP50-95): 100%|██████████| 1/1 [00:00<00:00,  4.22it/s]\n",
      "                   all         11         22      0.698      0.884      0.754      0.487\n",
      "\n",
      "      Epoch    GPU_mem   box_loss   cls_loss   dfl_loss  Instances       Size\n",
      "     33/100      2.36G     0.9825       1.23      1.074          9        640: 100%|██████████| 7/7 [00:03<00:00,  2.00it/s]\n",
      "                 Class     Images  Instances      Box(P          R      mAP50  mAP50-95): 100%|██████████| 1/1 [00:00<00:00,  3.75it/s]\n",
      "                   all         11         22      0.753      0.861      0.753      0.495\n",
      "\n",
      "      Epoch    GPU_mem   box_loss   cls_loss   dfl_loss  Instances       Size\n",
      "     34/100      2.36G     0.9686      1.121       1.08         16        640: 100%|██████████| 7/7 [00:03<00:00,  1.99it/s]\n",
      "                 Class     Images  Instances      Box(P          R      mAP50  mAP50-95): 100%|██████████| 1/1 [00:00<00:00,  4.01it/s]\n",
      "                   all         11         22      0.814      0.842      0.753      0.464\n",
      "\n",
      "      Epoch    GPU_mem   box_loss   cls_loss   dfl_loss  Instances       Size\n",
      "     35/100      2.35G     0.9475      1.116       1.09         10        640: 100%|██████████| 7/7 [00:03<00:00,  1.96it/s]\n",
      "                 Class     Images  Instances      Box(P          R      mAP50  mAP50-95): 100%|██████████| 1/1 [00:00<00:00,  3.69it/s]\n",
      "                   all         11         22      0.948      0.758      0.909      0.549\n",
      "\n",
      "      Epoch    GPU_mem   box_loss   cls_loss   dfl_loss  Instances       Size\n",
      "     36/100      2.36G     0.8972      1.155      1.073         17        640: 100%|██████████| 7/7 [00:03<00:00,  2.01it/s]\n",
      "                 Class     Images  Instances      Box(P          R      mAP50  mAP50-95): 100%|██████████| 1/1 [00:00<00:00,  4.13it/s]\n",
      "                   all         11         22      0.915      0.823      0.897      0.614\n",
      "\n",
      "      Epoch    GPU_mem   box_loss   cls_loss   dfl_loss  Instances       Size\n",
      "     37/100      2.36G     0.9208      1.087      1.079         11        640: 100%|██████████| 7/7 [00:03<00:00,  2.02it/s]\n",
      "                 Class     Images  Instances      Box(P          R      mAP50  mAP50-95): 100%|██████████| 1/1 [00:00<00:00,  4.00it/s]\n",
      "                   all         11         22      0.918      0.844      0.904      0.617\n",
      "\n",
      "      Epoch    GPU_mem   box_loss   cls_loss   dfl_loss  Instances       Size\n",
      "     38/100      2.36G     0.9193      1.045       1.06         17        640: 100%|██████████| 7/7 [00:03<00:00,  2.00it/s]\n",
      "                 Class     Images  Instances      Box(P          R      mAP50  mAP50-95): 100%|██████████| 1/1 [00:00<00:00,  4.23it/s]\n",
      "                   all         11         22      0.896      0.867       0.91      0.582\n",
      "\n",
      "      Epoch    GPU_mem   box_loss   cls_loss   dfl_loss  Instances       Size\n",
      "     39/100      2.35G     0.9496      1.027      1.043         10        640: 100%|██████████| 7/7 [00:03<00:00,  1.98it/s]\n",
      "                 Class     Images  Instances      Box(P          R      mAP50  mAP50-95): 100%|██████████| 1/1 [00:00<00:00,  4.06it/s]\n",
      "                   all         11         22      0.884       0.88      0.914      0.607\n",
      "\n",
      "      Epoch    GPU_mem   box_loss   cls_loss   dfl_loss  Instances       Size\n",
      "     40/100      2.36G     0.9733      1.058      1.121         10        640: 100%|██████████| 7/7 [00:03<00:00,  2.02it/s]\n",
      "                 Class     Images  Instances      Box(P          R      mAP50  mAP50-95): 100%|██████████| 1/1 [00:00<00:00,  3.86it/s]\n",
      "                   all         11         22      0.839      0.936      0.926      0.613\n",
      "\n",
      "      Epoch    GPU_mem   box_loss   cls_loss   dfl_loss  Instances       Size\n",
      "     41/100      2.36G     0.8644     0.9904      1.035         18        640: 100%|██████████| 7/7 [00:03<00:00,  2.00it/s]\n",
      "                 Class     Images  Instances      Box(P          R      mAP50  mAP50-95): 100%|██████████| 1/1 [00:00<00:00,  3.96it/s]\n",
      "                   all         11         22      0.872       0.89      0.904      0.636\n",
      "\n",
      "      Epoch    GPU_mem   box_loss   cls_loss   dfl_loss  Instances       Size\n",
      "     42/100      2.36G      0.903      1.007      1.034         13        640: 100%|██████████| 7/7 [00:03<00:00,  1.99it/s]\n",
      "                 Class     Images  Instances      Box(P          R      mAP50  mAP50-95): 100%|██████████| 1/1 [00:00<00:00,  3.61it/s]\n",
      "                   all         11         22      0.778       0.92      0.921      0.623\n",
      "\n",
      "      Epoch    GPU_mem   box_loss   cls_loss   dfl_loss  Instances       Size\n",
      "     43/100      2.35G     0.9573      1.019      1.066          9        640: 100%|██████████| 7/7 [00:03<00:00,  2.04it/s]\n",
      "                 Class     Images  Instances      Box(P          R      mAP50  mAP50-95): 100%|██████████| 1/1 [00:00<00:00,  4.02it/s]\n",
      "                   all         11         22      0.848      0.862      0.934       0.64\n",
      "\n",
      "      Epoch    GPU_mem   box_loss   cls_loss   dfl_loss  Instances       Size\n",
      "     44/100      2.36G      0.901     0.9268      1.069          9        640: 100%|██████████| 7/7 [00:03<00:00,  1.98it/s]\n",
      "                 Class     Images  Instances      Box(P          R      mAP50  mAP50-95): 100%|██████████| 1/1 [00:00<00:00,  4.01it/s]\n",
      "                   all         11         22      0.807      0.923      0.947       0.59\n",
      "\n",
      "      Epoch    GPU_mem   box_loss   cls_loss   dfl_loss  Instances       Size\n",
      "     45/100      2.36G     0.8307     0.9781      1.004          9        640: 100%|██████████| 7/7 [00:03<00:00,  2.03it/s]\n",
      "                 Class     Images  Instances      Box(P          R      mAP50  mAP50-95): 100%|██████████| 1/1 [00:00<00:00,  3.97it/s]\n",
      "                   all         11         22      0.838      0.853       0.94      0.624\n",
      "\n",
      "      Epoch    GPU_mem   box_loss   cls_loss   dfl_loss  Instances       Size\n",
      "     46/100      2.36G     0.8506      1.022      1.009         16        640: 100%|██████████| 7/7 [00:03<00:00,  1.99it/s]\n",
      "                 Class     Images  Instances      Box(P          R      mAP50  mAP50-95): 100%|██████████| 1/1 [00:00<00:00,  3.61it/s]\n",
      "                   all         11         22      0.869      0.898      0.954      0.648\n",
      "\n",
      "      Epoch    GPU_mem   box_loss   cls_loss   dfl_loss  Instances       Size\n",
      "     47/100      2.35G     0.9166     0.9351       1.09          7        640: 100%|██████████| 7/7 [00:03<00:00,  2.00it/s]\n",
      "                 Class     Images  Instances      Box(P          R      mAP50  mAP50-95): 100%|██████████| 1/1 [00:00<00:00,  3.84it/s]\n",
      "                   all         11         22      0.831      0.876      0.948      0.676\n",
      "\n",
      "      Epoch    GPU_mem   box_loss   cls_loss   dfl_loss  Instances       Size\n",
      "     48/100      2.36G     0.8836     0.9057       1.02         18        640: 100%|██████████| 7/7 [00:03<00:00,  2.00it/s]\n",
      "                 Class     Images  Instances      Box(P          R      mAP50  mAP50-95): 100%|██████████| 1/1 [00:00<00:00,  3.92it/s]\n",
      "                   all         11         22      0.853      0.875       0.95      0.601\n",
      "\n",
      "      Epoch    GPU_mem   box_loss   cls_loss   dfl_loss  Instances       Size\n",
      "     49/100      2.36G     0.8597      1.021       1.04          7        640: 100%|██████████| 7/7 [00:03<00:00,  2.05it/s]\n",
      "                 Class     Images  Instances      Box(P          R      mAP50  mAP50-95): 100%|██████████| 1/1 [00:00<00:00,  4.16it/s]\n",
      "                   all         11         22      0.845      0.876      0.939      0.568\n",
      "\n",
      "      Epoch    GPU_mem   box_loss   cls_loss   dfl_loss  Instances       Size\n",
      "     50/100      2.36G     0.8414     0.8658          1         10        640: 100%|██████████| 7/7 [00:03<00:00,  1.97it/s]\n",
      "                 Class     Images  Instances      Box(P          R      mAP50  mAP50-95): 100%|██████████| 1/1 [00:00<00:00,  3.71it/s]\n",
      "                   all         11         22      0.842      0.889      0.933      0.583\n",
      "\n",
      "      Epoch    GPU_mem   box_loss   cls_loss   dfl_loss  Instances       Size\n",
      "     51/100      2.35G       0.82     0.8626     0.9863         14        640: 100%|██████████| 7/7 [00:03<00:00,  1.99it/s]\n",
      "                 Class     Images  Instances      Box(P          R      mAP50  mAP50-95): 100%|██████████| 1/1 [00:00<00:00,  4.04it/s]\n",
      "                   all         11         22      0.822      0.898      0.946      0.613\n",
      "\n",
      "      Epoch    GPU_mem   box_loss   cls_loss   dfl_loss  Instances       Size\n",
      "     52/100      2.36G     0.8637     0.9097      1.015          8        640: 100%|██████████| 7/7 [00:03<00:00,  2.00it/s]\n",
      "                 Class     Images  Instances      Box(P          R      mAP50  mAP50-95): 100%|██████████| 1/1 [00:00<00:00,  3.84it/s]\n",
      "                   all         11         22      0.816       0.86      0.926      0.606\n",
      "\n",
      "      Epoch    GPU_mem   box_loss   cls_loss   dfl_loss  Instances       Size\n",
      "     53/100      2.36G     0.8821     0.9063     0.9869         19        640: 100%|██████████| 7/7 [00:03<00:00,  1.98it/s]\n",
      "                 Class     Images  Instances      Box(P          R      mAP50  mAP50-95): 100%|██████████| 1/1 [00:00<00:00,  3.51it/s]\n",
      "                   all         11         22      0.844      0.851      0.922      0.559\n",
      "\n",
      "      Epoch    GPU_mem   box_loss   cls_loss   dfl_loss  Instances       Size\n",
      "     54/100      2.36G     0.8048     0.8788      1.001          5        640: 100%|██████████| 7/7 [00:03<00:00,  1.96it/s]\n",
      "                 Class     Images  Instances      Box(P          R      mAP50  mAP50-95): 100%|██████████| 1/1 [00:00<00:00,  3.54it/s]\n",
      "                   all         11         22      0.857      0.861      0.919      0.557\n",
      "\n",
      "      Epoch    GPU_mem   box_loss   cls_loss   dfl_loss  Instances       Size\n",
      "     55/100      2.35G     0.8392     0.9257      1.004         13        640: 100%|██████████| 7/7 [00:03<00:00,  1.94it/s]\n",
      "                 Class     Images  Instances      Box(P          R      mAP50  mAP50-95): 100%|██████████| 1/1 [00:00<00:00,  3.58it/s]\n",
      "                   all         11         22       0.93      0.868      0.914      0.596\n",
      "\n",
      "      Epoch    GPU_mem   box_loss   cls_loss   dfl_loss  Instances       Size\n",
      "     56/100      2.36G     0.7442     0.8006     0.9662         14        640: 100%|██████████| 7/7 [00:03<00:00,  1.99it/s]\n",
      "                 Class     Images  Instances      Box(P          R      mAP50  mAP50-95): 100%|██████████| 1/1 [00:00<00:00,  4.05it/s]\n",
      "                   all         11         22      0.925      0.892      0.938      0.574\n",
      "\n",
      "      Epoch    GPU_mem   box_loss   cls_loss   dfl_loss  Instances       Size\n",
      "     57/100      2.36G     0.7905     0.8167      1.008         10        640: 100%|██████████| 7/7 [00:03<00:00,  2.03it/s]\n",
      "                 Class     Images  Instances      Box(P          R      mAP50  mAP50-95): 100%|██████████| 1/1 [00:00<00:00,  3.83it/s]\n",
      "                   all         11         22      0.939      0.887      0.939      0.577\n",
      "\n",
      "      Epoch    GPU_mem   box_loss   cls_loss   dfl_loss  Instances       Size\n",
      "     58/100      2.36G     0.8274     0.8497     0.9835          9        640: 100%|██████████| 7/7 [00:03<00:00,  2.01it/s]\n",
      "                 Class     Images  Instances      Box(P          R      mAP50  mAP50-95): 100%|██████████| 1/1 [00:00<00:00,  3.91it/s]\n",
      "                   all         11         22      0.936      0.903      0.934       0.58\n",
      "\n",
      "      Epoch    GPU_mem   box_loss   cls_loss   dfl_loss  Instances       Size\n",
      "     59/100      2.35G     0.7248     0.7764     0.9664         15        640: 100%|██████████| 7/7 [00:03<00:00,  1.99it/s]\n",
      "                 Class     Images  Instances      Box(P          R      mAP50  mAP50-95): 100%|██████████| 1/1 [00:00<00:00,  3.39it/s]\n",
      "                   all         11         22       0.95      0.898      0.942      0.574\n",
      "\n",
      "      Epoch    GPU_mem   box_loss   cls_loss   dfl_loss  Instances       Size\n",
      "     60/100      2.36G     0.7961     0.7934     0.9818         13        640: 100%|██████████| 7/7 [00:03<00:00,  1.97it/s]\n",
      "                 Class     Images  Instances      Box(P          R      mAP50  mAP50-95): 100%|██████████| 1/1 [00:00<00:00,  3.85it/s]\n",
      "                   all         11         22      0.875      0.927      0.946      0.588\n",
      "\n",
      "      Epoch    GPU_mem   box_loss   cls_loss   dfl_loss  Instances       Size\n",
      "     61/100      2.36G     0.7585     0.7913     0.9544         11        640: 100%|██████████| 7/7 [00:03<00:00,  1.97it/s]\n",
      "                 Class     Images  Instances      Box(P          R      mAP50  mAP50-95): 100%|██████████| 1/1 [00:00<00:00,  3.74it/s]\n",
      "                   all         11         22      0.936       0.85      0.946      0.583\n",
      "\n",
      "      Epoch    GPU_mem   box_loss   cls_loss   dfl_loss  Instances       Size\n",
      "     62/100      2.36G     0.7596      0.759     0.9809         12        640: 100%|██████████| 7/7 [00:03<00:00,  2.02it/s]\n",
      "                 Class     Images  Instances      Box(P          R      mAP50  mAP50-95): 100%|██████████| 1/1 [00:00<00:00,  4.04it/s]\n",
      "                   all         11         22      0.942      0.842       0.95      0.578\n",
      "\n",
      "      Epoch    GPU_mem   box_loss   cls_loss   dfl_loss  Instances       Size\n",
      "     63/100      2.35G     0.7873     0.7819     0.9868         17        640: 100%|██████████| 7/7 [00:03<00:00,  1.97it/s]\n",
      "                 Class     Images  Instances      Box(P          R      mAP50  mAP50-95): 100%|██████████| 1/1 [00:00<00:00,  3.81it/s]\n",
      "                   all         11         22      0.859      0.885      0.951      0.583\n",
      "\n",
      "      Epoch    GPU_mem   box_loss   cls_loss   dfl_loss  Instances       Size\n",
      "     64/100      2.36G     0.7407       0.75     0.9685         11        640: 100%|██████████| 7/7 [00:03<00:00,  2.01it/s]\n",
      "                 Class     Images  Instances      Box(P          R      mAP50  mAP50-95): 100%|██████████| 1/1 [00:00<00:00,  3.75it/s]\n",
      "                   all         11         22      0.881      0.885      0.949      0.589\n",
      "\n",
      "      Epoch    GPU_mem   box_loss   cls_loss   dfl_loss  Instances       Size\n",
      "     65/100      2.36G     0.7303     0.7839     0.9875          9        640: 100%|██████████| 7/7 [00:03<00:00,  2.03it/s]\n",
      "                 Class     Images  Instances      Box(P          R      mAP50  mAP50-95): 100%|██████████| 1/1 [00:00<00:00,  3.84it/s]\n",
      "                   all         11         22      0.899      0.882      0.954      0.586\n",
      "\n",
      "      Epoch    GPU_mem   box_loss   cls_loss   dfl_loss  Instances       Size\n",
      "     66/100      2.36G      0.756     0.7537     0.9932          8        640: 100%|██████████| 7/7 [00:03<00:00,  2.01it/s]\n",
      "                 Class     Images  Instances      Box(P          R      mAP50  mAP50-95): 100%|██████████| 1/1 [00:00<00:00,  3.85it/s]\n",
      "                   all         11         22      0.912      0.876      0.924      0.614\n",
      "\n",
      "      Epoch    GPU_mem   box_loss   cls_loss   dfl_loss  Instances       Size\n",
      "     67/100      2.35G      0.688     0.7105     0.9703         10        640: 100%|██████████| 7/7 [00:03<00:00,  1.96it/s]\n",
      "                 Class     Images  Instances      Box(P          R      mAP50  mAP50-95): 100%|██████████| 1/1 [00:00<00:00,  4.11it/s]\n",
      "                   all         11         22      0.918      0.876      0.964      0.619\n",
      "\n",
      "      Epoch    GPU_mem   box_loss   cls_loss   dfl_loss  Instances       Size\n",
      "     68/100      2.36G     0.7839     0.7787     0.9655          7        640: 100%|██████████| 7/7 [00:03<00:00,  1.99it/s]\n",
      "                 Class     Images  Instances      Box(P          R      mAP50  mAP50-95): 100%|██████████| 1/1 [00:00<00:00,  3.99it/s]\n",
      "                   all         11         22      0.918      0.876      0.967      0.617\n",
      "\n",
      "      Epoch    GPU_mem   box_loss   cls_loss   dfl_loss  Instances       Size\n",
      "     69/100      2.36G     0.7055     0.7127     0.9257         10        640: 100%|██████████| 7/7 [00:03<00:00,  2.00it/s]\n",
      "                 Class     Images  Instances      Box(P          R      mAP50  mAP50-95): 100%|██████████| 1/1 [00:00<00:00,  4.14it/s]\n",
      "                   all         11         22      0.942      0.876      0.968      0.582\n",
      "\n",
      "      Epoch    GPU_mem   box_loss   cls_loss   dfl_loss  Instances       Size\n",
      "     70/100      2.36G     0.7679     0.7327     0.9916         12        640: 100%|██████████| 7/7 [00:03<00:00,  2.02it/s]\n",
      "                 Class     Images  Instances      Box(P          R      mAP50  mAP50-95): 100%|██████████| 1/1 [00:00<00:00,  3.73it/s]\n",
      "                   all         11         22      0.923      0.898      0.969      0.593\n",
      "\n",
      "      Epoch    GPU_mem   box_loss   cls_loss   dfl_loss  Instances       Size\n",
      "     71/100      2.36G     0.7883     0.7367     0.9753         19        640: 100%|██████████| 7/7 [00:03<00:00,  1.99it/s]\n",
      "                 Class     Images  Instances      Box(P          R      mAP50  mAP50-95): 100%|██████████| 1/1 [00:00<00:00,  3.70it/s]\n",
      "                   all         11         22      0.936      0.898       0.97      0.612\n",
      "\n",
      "      Epoch    GPU_mem   box_loss   cls_loss   dfl_loss  Instances       Size\n",
      "     72/100      2.36G     0.7924     0.7424     0.9688         13        640: 100%|██████████| 7/7 [00:03<00:00,  1.97it/s]\n",
      "                 Class     Images  Instances      Box(P          R      mAP50  mAP50-95): 100%|██████████| 1/1 [00:00<00:00,  3.48it/s]\n",
      "                   all         11         22      0.948      0.913      0.977      0.625\n",
      "\n",
      "      Epoch    GPU_mem   box_loss   cls_loss   dfl_loss  Instances       Size\n",
      "     73/100      2.36G     0.7144     0.7192     0.9653         11        640: 100%|██████████| 7/7 [00:03<00:00,  1.96it/s]\n",
      "                 Class     Images  Instances      Box(P          R      mAP50  mAP50-95): 100%|██████████| 1/1 [00:00<00:00,  3.15it/s]\n",
      "                   all         11         22      0.934      0.915      0.974      0.636\n",
      "\n",
      "      Epoch    GPU_mem   box_loss   cls_loss   dfl_loss  Instances       Size\n",
      "     74/100      2.36G     0.7202      0.724     0.9673         12        640: 100%|██████████| 7/7 [00:03<00:00,  1.94it/s]\n",
      "                 Class     Images  Instances      Box(P          R      mAP50  mAP50-95): 100%|██████████| 1/1 [00:00<00:00,  3.46it/s]\n",
      "                   all         11         22      0.916      0.911      0.953      0.616\n",
      "\n",
      "      Epoch    GPU_mem   box_loss   cls_loss   dfl_loss  Instances       Size\n",
      "     75/100      2.35G     0.7501     0.7571     0.9824         10        640: 100%|██████████| 7/7 [00:03<00:00,  1.99it/s]\n",
      "                 Class     Images  Instances      Box(P          R      mAP50  mAP50-95): 100%|██████████| 1/1 [00:00<00:00,  3.71it/s]\n",
      "                   all         11         22      0.923      0.906      0.948      0.602\n",
      "\n",
      "      Epoch    GPU_mem   box_loss   cls_loss   dfl_loss  Instances       Size\n",
      "     76/100      2.36G     0.6626     0.6876     0.9281         13        640: 100%|██████████| 7/7 [00:03<00:00,  2.02it/s]\n",
      "                 Class     Images  Instances      Box(P          R      mAP50  mAP50-95): 100%|██████████| 1/1 [00:00<00:00,  4.03it/s]\n",
      "                   all         11         22      0.918      0.898      0.977       0.59\n",
      "\n",
      "      Epoch    GPU_mem   box_loss   cls_loss   dfl_loss  Instances       Size\n",
      "     77/100      2.36G     0.7064     0.6853      0.973         13        640: 100%|██████████| 7/7 [00:03<00:00,  2.05it/s]\n",
      "                 Class     Images  Instances      Box(P          R      mAP50  mAP50-95): 100%|██████████| 1/1 [00:00<00:00,  3.77it/s]\n",
      "                   all         11         22      0.917      0.901      0.977      0.587\n",
      "\n",
      "      Epoch    GPU_mem   box_loss   cls_loss   dfl_loss  Instances       Size\n",
      "     78/100      2.36G     0.7076     0.7069     0.9558          9        640: 100%|██████████| 7/7 [00:03<00:00,  2.02it/s]\n",
      "                 Class     Images  Instances      Box(P          R      mAP50  mAP50-95): 100%|██████████| 1/1 [00:00<00:00,  2.44it/s]\n",
      "                   all         11         22      0.918      0.905      0.977      0.584\n",
      "\n",
      "      Epoch    GPU_mem   box_loss   cls_loss   dfl_loss  Instances       Size\n",
      "     79/100      2.35G     0.6854     0.6521      0.938         10        640: 100%|██████████| 7/7 [00:03<00:00,  1.99it/s]\n",
      "                 Class     Images  Instances      Box(P          R      mAP50  mAP50-95): 100%|██████████| 1/1 [00:00<00:00,  3.45it/s]\n",
      "                   all         11         22      0.912      0.893      0.976      0.588\n",
      "\n",
      "      Epoch    GPU_mem   box_loss   cls_loss   dfl_loss  Instances       Size\n",
      "     80/100      2.36G     0.7215      0.717     0.9556         11        640: 100%|██████████| 7/7 [00:03<00:00,  1.98it/s]\n",
      "                 Class     Images  Instances      Box(P          R      mAP50  mAP50-95): 100%|██████████| 1/1 [00:00<00:00,  3.59it/s]\n",
      "                   all         11         22      0.889      0.893      0.975      0.587\n",
      "\n",
      "      Epoch    GPU_mem   box_loss   cls_loss   dfl_loss  Instances       Size\n",
      "     81/100      2.36G     0.6726     0.7254     0.9443         13        640: 100%|██████████| 7/7 [00:03<00:00,  2.00it/s]\n",
      "                 Class     Images  Instances      Box(P          R      mAP50  mAP50-95): 100%|██████████| 1/1 [00:00<00:00,  3.89it/s]\n",
      "                   all         11         22      0.931      0.862      0.975      0.582\n",
      "\n",
      "      Epoch    GPU_mem   box_loss   cls_loss   dfl_loss  Instances       Size\n",
      "     82/100      2.36G     0.6809     0.6743      0.937         12        640: 100%|██████████| 7/7 [00:03<00:00,  2.01it/s]\n",
      "                 Class     Images  Instances      Box(P          R      mAP50  mAP50-95): 100%|██████████| 1/1 [00:00<00:00,  3.41it/s]\n",
      "                   all         11         22      0.947      0.884      0.981       0.63\n",
      "\n",
      "      Epoch    GPU_mem   box_loss   cls_loss   dfl_loss  Instances       Size\n",
      "     83/100      2.35G     0.6613     0.6455     0.9208         19        640: 100%|██████████| 7/7 [00:03<00:00,  1.98it/s]\n",
      "                 Class     Images  Instances      Box(P          R      mAP50  mAP50-95): 100%|██████████| 1/1 [00:00<00:00,  3.85it/s]\n",
      "                   all         11         22      0.937      0.923      0.983      0.635\n",
      "\n",
      "      Epoch    GPU_mem   box_loss   cls_loss   dfl_loss  Instances       Size\n",
      "     84/100      2.36G     0.6544     0.6332     0.9398         10        640: 100%|██████████| 7/7 [00:03<00:00,  2.02it/s]\n",
      "                 Class     Images  Instances      Box(P          R      mAP50  mAP50-95): 100%|██████████| 1/1 [00:00<00:00,  3.81it/s]\n",
      "                   all         11         22      0.922      0.925      0.983      0.634\n",
      "\n",
      "      Epoch    GPU_mem   box_loss   cls_loss   dfl_loss  Instances       Size\n",
      "     85/100      2.36G     0.6491     0.6182     0.9366         11        640: 100%|██████████| 7/7 [00:03<00:00,  2.01it/s]\n",
      "                 Class     Images  Instances      Box(P          R      mAP50  mAP50-95): 100%|██████████| 1/1 [00:00<00:00,  4.04it/s]\n",
      "                   all         11         22      0.919      0.924      0.983      0.633\n",
      "\n",
      "      Epoch    GPU_mem   box_loss   cls_loss   dfl_loss  Instances       Size\n",
      "     86/100      2.36G     0.6547     0.6685     0.9528          8        640: 100%|██████████| 7/7 [00:03<00:00,  1.99it/s]\n",
      "                 Class     Images  Instances      Box(P          R      mAP50  mAP50-95): 100%|██████████| 1/1 [00:00<00:00,  3.69it/s]\n",
      "                   all         11         22      0.902       0.93      0.967      0.624\n",
      "\n",
      "      Epoch    GPU_mem   box_loss   cls_loss   dfl_loss  Instances       Size\n",
      "     87/100      2.35G     0.6389     0.6119     0.9114         12        640: 100%|██████████| 7/7 [00:03<00:00,  1.84it/s]\n",
      "                 Class     Images  Instances      Box(P          R      mAP50  mAP50-95): 100%|██████████| 1/1 [00:00<00:00,  2.13it/s]\n",
      "                   all         11         22      0.904       0.93      0.965      0.628\n",
      "\n",
      "      Epoch    GPU_mem   box_loss   cls_loss   dfl_loss  Instances       Size\n",
      "     88/100      2.36G     0.6498     0.6181     0.9287          4        640: 100%|██████████| 7/7 [00:03<00:00,  1.89it/s]\n",
      "                 Class     Images  Instances      Box(P          R      mAP50  mAP50-95): 100%|██████████| 1/1 [00:00<00:00,  2.22it/s]\n",
      "                   all         11         22      0.911       0.93      0.971       0.63\n",
      "\n",
      "      Epoch    GPU_mem   box_loss   cls_loss   dfl_loss  Instances       Size\n",
      "     89/100      2.36G     0.6505     0.6311     0.9279          9        640: 100%|██████████| 7/7 [00:03<00:00,  1.95it/s]\n",
      "                 Class     Images  Instances      Box(P          R      mAP50  mAP50-95): 100%|██████████| 1/1 [00:00<00:00,  3.23it/s]\n",
      "                   all         11         22      0.913      0.936      0.978      0.637\n",
      "\n",
      "      Epoch    GPU_mem   box_loss   cls_loss   dfl_loss  Instances       Size\n",
      "     90/100      2.36G     0.6269     0.5919     0.9134          8        640: 100%|██████████| 7/7 [00:03<00:00,  1.94it/s]\n",
      "                 Class     Images  Instances      Box(P          R      mAP50  mAP50-95): 100%|██████████| 1/1 [00:00<00:00,  2.39it/s]\n",
      "                   all         11         22      0.914      0.939      0.983      0.635\n",
      "\n",
      "      Epoch    GPU_mem   box_loss   cls_loss   dfl_loss  Instances       Size\n",
      "     91/100      2.35G      0.634     0.6105     0.9363         14        640: 100%|██████████| 7/7 [00:03<00:00,  1.89it/s]\n",
      "                 Class     Images  Instances      Box(P          R      mAP50  mAP50-95): 100%|██████████| 1/1 [00:00<00:00,  2.88it/s]\n",
      "                   all         11         22      0.914      0.936      0.976      0.634\n",
      "\n",
      "      Epoch    GPU_mem   box_loss   cls_loss   dfl_loss  Instances       Size\n",
      "     92/100      2.36G     0.6261     0.6172     0.9215         16        640: 100%|██████████| 7/7 [00:03<00:00,  1.93it/s]\n",
      "                 Class     Images  Instances      Box(P          R      mAP50  mAP50-95): 100%|██████████| 1/1 [00:00<00:00,  2.57it/s]\n",
      "                   all         11         22       0.92      0.936      0.976      0.637\n",
      "\n",
      "      Epoch    GPU_mem   box_loss   cls_loss   dfl_loss  Instances       Size\n",
      "     93/100      2.36G     0.6295     0.6064     0.9367          7        640: 100%|██████████| 7/7 [00:03<00:00,  1.94it/s]\n",
      "                 Class     Images  Instances      Box(P          R      mAP50  mAP50-95): 100%|██████████| 1/1 [00:00<00:00,  3.36it/s]\n",
      "                   all         11         22      0.922      0.936      0.976      0.597\n",
      "\n",
      "      Epoch    GPU_mem   box_loss   cls_loss   dfl_loss  Instances       Size\n",
      "     94/100      2.36G     0.6286     0.6167     0.9224         13        640: 100%|██████████| 7/7 [00:03<00:00,  1.91it/s]\n",
      "                 Class     Images  Instances      Box(P          R      mAP50  mAP50-95): 100%|██████████| 1/1 [00:00<00:00,  2.26it/s]\n",
      "                   all         11         22      0.925      0.936       0.98        0.6\n",
      "\n",
      "      Epoch    GPU_mem   box_loss   cls_loss   dfl_loss  Instances       Size\n",
      "     95/100      2.35G     0.6724     0.6388     0.9464          9        640: 100%|██████████| 7/7 [00:03<00:00,  1.96it/s]\n",
      "                 Class     Images  Instances      Box(P          R      mAP50  mAP50-95): 100%|██████████| 1/1 [00:00<00:00,  3.76it/s]\n",
      "                   all         11         22      0.921      0.933       0.98      0.599\n",
      "\n",
      "      Epoch    GPU_mem   box_loss   cls_loss   dfl_loss  Instances       Size\n",
      "     96/100      2.36G     0.6274     0.5988     0.9282         12        640: 100%|██████████| 7/7 [00:03<00:00,  1.98it/s]\n",
      "                 Class     Images  Instances      Box(P          R      mAP50  mAP50-95): 100%|██████████| 1/1 [00:00<00:00,  3.67it/s]\n",
      "                   all         11         22      0.918       0.93       0.98      0.603\n",
      "\n",
      "      Epoch    GPU_mem   box_loss   cls_loss   dfl_loss  Instances       Size\n",
      "     97/100      2.36G     0.6191     0.6461     0.9367          7        640: 100%|██████████| 7/7 [00:03<00:00,  2.04it/s]\n",
      "                 Class     Images  Instances      Box(P          R      mAP50  mAP50-95): 100%|██████████| 1/1 [00:00<00:00,  3.64it/s]\n",
      "                   all         11         22      0.918      0.933      0.981      0.604\n",
      "\n",
      "      Epoch    GPU_mem   box_loss   cls_loss   dfl_loss  Instances       Size\n",
      "     98/100      2.36G     0.6765     0.6169     0.9429          8        640: 100%|██████████| 7/7 [00:03<00:00,  2.03it/s]\n",
      "                 Class     Images  Instances      Box(P          R      mAP50  mAP50-95): 100%|██████████| 1/1 [00:00<00:00,  3.31it/s]\n",
      "                   all         11         22       0.92      0.936      0.984      0.638\n",
      "\n",
      "      Epoch    GPU_mem   box_loss   cls_loss   dfl_loss  Instances       Size\n",
      "     99/100      2.35G     0.6216     0.6014     0.9447         14        640: 100%|██████████| 7/7 [00:03<00:00,  1.98it/s]\n",
      "                 Class     Images  Instances      Box(P          R      mAP50  mAP50-95): 100%|██████████| 1/1 [00:00<00:00,  3.76it/s]\n",
      "                   all         11         22      0.921      0.931      0.984       0.63\n",
      "\n",
      "      Epoch    GPU_mem   box_loss   cls_loss   dfl_loss  Instances       Size\n",
      "    100/100      2.36G     0.5808      0.578      0.894         15        640: 100%|██████████| 7/7 [00:03<00:00,  1.94it/s]\n",
      "                 Class     Images  Instances      Box(P          R      mAP50  mAP50-95): 100%|██████████| 1/1 [00:00<00:00,  2.56it/s]\n",
      "                   all         11         22       0.92       0.93      0.981      0.638\n",
      "\n",
      "100 epochs completed in 0.147 hours.\n",
      "Optimizer stripped from runs\\detect\\train4\\weights\\last.pt, 6.2MB\n",
      "Optimizer stripped from runs\\detect\\train4\\weights\\best.pt, 6.2MB\n",
      "\n",
      "Validating runs\\detect\\train4\\weights\\best.pt...\n",
      "Ultralytics YOLOv8.0.117  Python-3.10.9 torch-2.0.1+cu117 CUDA:0 (NVIDIA GeForce GTX 1050 Ti, 4096MiB)\n",
      "YOLOv8n summary (fused): 168 layers, 3006428 parameters, 0 gradients\n",
      "                 Class     Images  Instances      Box(P          R      mAP50  mAP50-95): 100%|██████████| 1/1 [00:00<00:00,  3.70it/s]\n",
      "                   all         11         22      0.829      0.876      0.948      0.673\n",
      "Speed: 0.6ms preprocess, 10.0ms inference, 0.0ms loss, 2.3ms postprocess per image\n",
      "Results saved to \u001b[1mruns\\detect\\train4\u001b[0m\n",
      "WARNING:root:Images sizes do not match. This will causes images to be display incorrectly in the UI.\n"
     ]
    },
    {
     "data": {
      "text/html": [
       "Waiting for W&B process to finish... <strong style=\"color:green\">(success).</strong>"
      ],
      "text/plain": [
       "<IPython.core.display.HTML object>"
      ]
     },
     "metadata": {},
     "output_type": "display_data"
    },
    {
     "data": {
      "text/html": [
       "<style>\n",
       "    table.wandb td:nth-child(1) { padding: 0 10px; text-align: left ; width: auto;} td:nth-child(2) {text-align: left ; width: 100%}\n",
       "    .wandb-row { display: flex; flex-direction: row; flex-wrap: wrap; justify-content: flex-start; width: 100% }\n",
       "    .wandb-col { display: flex; flex-direction: column; flex-basis: 100%; flex: 1; padding: 10px; }\n",
       "    </style>\n",
       "<div class=\"wandb-row\"><div class=\"wandb-col\"><h3>Run history:</h3><br/><table class=\"wandb\"><tr><td>epoch</td><td>▁▁▁▁▂▂▂▂▂▃▃▃▃▃▃▄▄▄▄▄▅▅▅▅▅▅▆▆▆▆▆▇▇▇▇▇▇███</td></tr><tr><td>lr/pg0</td><td>▁▂▄▅▇▇███▇▇▇▇▆▆▆▆▆▆▅▅▅▅▄▄▄▄▄▃▃▃▃▃▂▂▂▂▁▁▁</td></tr><tr><td>lr/pg1</td><td>▁▂▄▅▇▇███▇▇▇▇▆▆▆▆▆▆▅▅▅▅▄▄▄▄▄▃▃▃▃▃▂▂▂▂▁▁▁</td></tr><tr><td>lr/pg2</td><td>▁▂▄▅▇▇███▇▇▇▇▆▆▆▆▆▆▅▅▅▅▄▄▄▄▄▃▃▃▃▃▂▂▂▂▁▁▁</td></tr><tr><td>metrics/mAP50(B)</td><td>▁▂▃▃▄▅▆▇▇▇▅▇▇▆▇▇████████████████████████</td></tr><tr><td>metrics/mAP50-95(B)</td><td>▁▂▃▃▃▅▅▆▆▇▆▇█▆▇▇████▇▇█▇▇▇████▇▇▇███████</td></tr><tr><td>metrics/precision(B)</td><td>▁▁▁▇▇█▆▇▆█▆▇█▇██▇▇▇▇▇▇██▇▇██████████████</td></tr><tr><td>metrics/recall(B)</td><td>▁▇█▁▂▄▆▇▆▆▇▆▇▇▇▇█▇▇██▇▇█████████▇███████</td></tr><tr><td>train/box_loss</td><td>█▆▄▄▄▄▄▄▃▄▄▄▄▃▃▃▃▃▃▃▃▂▂▂▂▂▂▂▂▂▂▂▂▁▁▁▁▁▁▁</td></tr><tr><td>train/cls_loss</td><td>█▆▄▄▃▃▃▃▂▂▂▂▂▂▂▂▂▂▂▂▂▂▁▁▁▁▁▁▁▁▁▁▁▁▁▁▁▁▁▁</td></tr><tr><td>train/dfl_loss</td><td>█▅▄▃▃▄▄▄▃▃▃▃▃▃▃▃▃▃▂▃▂▂▂▂▂▂▂▁▂▂▂▁▁▁▁▁▁▁▁▁</td></tr><tr><td>val/box_loss</td><td>▁▇▇▇███▇▇▇▇▇▇▇▇▇▆▆▆▇▆▆▇▇▇▇▆▆▆▆▇▇▇▇▆▆▆▇▇▇</td></tr><tr><td>val/cls_loss</td><td>▁█▇▇▇▆▅▄▄▄▄▄▄▃▄▃▃▃▃▃▃▃▃▃▃▃▂▂▂▂▂▂▂▂▂▂▂▂▂▂</td></tr><tr><td>val/dfl_loss</td><td>▁▆▇▇██▇▇▇█▇▇▇█▇▇▆▇▆▇▇▇▇▇▇▇▇▇▇▆▇▇▇▇▇▇▇▇▇▇</td></tr></table><br/></div><div class=\"wandb-col\"><h3>Run summary:</h3><br/><table class=\"wandb\"><tr><td>best/epoch</td><td>47</td></tr><tr><td>best/metrics/mAP50(B)</td><td>0.94799</td></tr><tr><td>best/metrics/mAP50-95(B)</td><td>0.67616</td></tr><tr><td>best/metrics/precision(B)</td><td>0.83148</td></tr><tr><td>best/metrics/recall(B)</td><td>0.87576</td></tr><tr><td>best/val/box_loss</td><td>1.05252</td></tr><tr><td>best/val/cls_loss</td><td>0.96712</td></tr><tr><td>best/val/dfl_loss</td><td>1.07898</td></tr><tr><td>epoch</td><td>100</td></tr><tr><td>model/GFLOPs</td><td>0.0</td></tr><tr><td>model/parameters</td><td>3011628</td></tr><tr><td>model/speed(ms/img)</td><td>22.123</td></tr></table><br/></div></div>"
      ],
      "text/plain": [
       "<IPython.core.display.HTML object>"
      ]
     },
     "metadata": {},
     "output_type": "display_data"
    },
    {
     "data": {
      "text/html": [
       " View run <strong style=\"color:#cdcd00\">leafy-puddle-7</strong> at: <a href='https://wandb.ai/czarna_magia/petrol-prices-object-detection/runs/5qq3n0pz' target=\"_blank\">https://wandb.ai/czarna_magia/petrol-prices-object-detection/runs/5qq3n0pz</a><br/>Synced 5 W&B file(s), 23 media file(s), 102 artifact file(s) and 0 other file(s)"
      ],
      "text/plain": [
       "<IPython.core.display.HTML object>"
      ]
     },
     "metadata": {},
     "output_type": "display_data"
    },
    {
     "data": {
      "text/html": [
       "Find logs at: <code>.\\wandb\\run-20230613_190022-5qq3n0pz\\logs</code>"
      ],
      "text/plain": [
       "<IPython.core.display.HTML object>"
      ]
     },
     "metadata": {},
     "output_type": "display_data"
    }
   ],
   "source": [
    "model.train(\n",
    "        data=\"configv2.yaml\",  # Path to data file\n",
    "        epochs=100,\n",
    "        device=device,\n",
    "        # project=\"petrol-prices-object-detection\",\n",
    "        # name=f\"yolo-{device}-epochs-{epochs}\",\n",
    "        patience=55,  # Epochs to wait for no observable improvement for early stopping of training\n",
    "        verbose=False,\n",
    "        pretrained=True,\n",
    "        plots=False,  # Don't save plots during train/val\n",
    "        seed=42)"
   ]
  },
  {
   "cell_type": "code",
   "execution_count": null,
   "metadata": {},
   "outputs": [],
   "source": [
    "# TODO: Describe the meaning of dl_loss (and other losses), mAP, mAP50 etc.\n",
    "# It is crucial to show that you understand what you are doing and not onlu use ultralytics implementation"
   ]
  },
  {
   "attachments": {},
   "cell_type": "markdown",
   "metadata": {},
   "source": [
    "### Plotting predictions\n",
    "To visualise results of our model we can plot the images with the predicted bounding boxes. To do that we load one of our previously trained models with satisfying results. All `YOLO` models are saved in the `/runs/detect` folder. We need to specify that we want get the best weights of our model. For example the path to a model traind by us could look like: `runs\\detect\\train22\\weights\\best.pt`."
   ]
  },
  {
   "cell_type": "code",
   "execution_count": 5,
   "metadata": {},
   "outputs": [],
   "source": [
    "run = 4\n",
    "path_to_trained_model = fr'runs\\detect\\train{run}\\weights\\best.pt'"
   ]
  },
  {
   "cell_type": "code",
   "execution_count": null,
   "metadata": {},
   "outputs": [],
   "source": [
    "trained_myself = YOLO(path_to_trained_model) # Load model\n",
    "\n",
    "# Plot the model results for the validation set\n",
    "utils.plot_results_one_fig(dir=VAL_DIR, model=trained_myself)"
   ]
  },
  {
   "attachments": {},
   "cell_type": "markdown",
   "metadata": {},
   "source": [
    "Get size of the model."
   ]
  },
  {
   "cell_type": "code",
   "execution_count": 7,
   "metadata": {},
   "outputs": [
    {
     "name": "stdout",
     "output_type": "stream",
     "text": [
      "Size of the model: 5.95 MB.\n"
     ]
    }
   ],
   "source": [
    "import os\n",
    "from scripts.utils import get_size\n",
    "\n",
    "model_size = get_size(path_to_trained_model, verbose=True)"
   ]
  },
  {
   "attachments": {},
   "cell_type": "markdown",
   "metadata": {},
   "source": [
    "### Final test for the model."
   ]
  },
  {
   "cell_type": "code",
   "execution_count": 6,
   "metadata": {},
   "outputs": [
    {
     "ename": "NameError",
     "evalue": "name 'utils' is not defined",
     "output_type": "error",
     "traceback": [
      "\u001b[1;31m---------------------------------------------------------------------------\u001b[0m",
      "\u001b[1;31mNameError\u001b[0m                                 Traceback (most recent call last)",
      "Cell \u001b[1;32mIn[6], line 2\u001b[0m\n\u001b[0;32m      1\u001b[0m me \u001b[39m=\u001b[39m \u001b[39mr\u001b[39m\u001b[39m'\u001b[39m\u001b[39mC:\u001b[39m\u001b[39m\\\u001b[39m\u001b[39mUsers\u001b[39m\u001b[39m\\\u001b[39m\u001b[39mjanek\u001b[39m\u001b[39m\\\u001b[39m\u001b[39mnotebooks\u001b[39m\u001b[39m\\\u001b[39m\u001b[39mpetrol-prices-object-detection\u001b[39m\u001b[39m\\\u001b[39m\u001b[39mcustom_data\u001b[39m\u001b[39m\\\u001b[39m\u001b[39morlen-ultimate-photo.jpg\u001b[39m\u001b[39m'\u001b[39m\n\u001b[1;32m----> 2\u001b[0m utils\u001b[39m.\u001b[39mplot_results(model\u001b[39m=\u001b[39mtrained_myself, image\u001b[39m=\u001b[39mme)\n",
      "\u001b[1;31mNameError\u001b[0m: name 'utils' is not defined"
     ]
    }
   ],
   "source": [
    "me = r'C:\\Users\\janek\\notebooks\\petrol-prices-object-detection\\custom_data\\orlen-ultimate-photo.jpg'\n",
    "utils.plot_results(model=trained_myself, image=me)"
   ]
  },
  {
   "cell_type": "code",
   "execution_count": 23,
   "metadata": {},
   "outputs": [
    {
     "name": "stderr",
     "output_type": "stream",
     "text": [
      "\n",
      "image 1/1 C:\\Users\\janek\\notebooks\\petrol-prices-object-detection\\custom_data\\orlen-ultimate-photo.jpg: 640x480 1 orlen, 112.9ms\n",
      "Speed: 12.0ms preprocess, 112.9ms inference, 7.0ms postprocess per image at shape (1, 3, 640, 640)\n"
     ]
    },
    {
     "data": {
      "text/plain": [
       "ultralytics.yolo.engine.results.Results"
      ]
     },
     "execution_count": 23,
     "metadata": {},
     "output_type": "execute_result"
    }
   ],
   "source": [
    "type(trained_myself(me)[0])"
   ]
  },
  {
   "cell_type": "code",
   "execution_count": 24,
   "metadata": {},
   "outputs": [
    {
     "name": "stderr",
     "output_type": "stream",
     "text": [
      "\n",
      "image 1/1 C:\\Users\\janek\\notebooks\\petrol-prices-object-detection\\custom_data\\orlen-ultimate-photo.jpg: 640x480 1 orlen, 45.6ms\n",
      "Speed: 200.2ms preprocess, 45.6ms inference, 6.9ms postprocess per image at shape (1, 3, 640, 640)\n"
     ]
    },
    {
     "data": {
      "text/plain": [
       "[ultralytics.yolo.engine.results.Results object with attributes:\n",
       " \n",
       " boxes: ultralytics.yolo.engine.results.Boxes object\n",
       " keypoints: None\n",
       " keys: ['boxes']\n",
       " masks: None\n",
       " names: {0: 'circlek', 1: 'orlen', 2: 'prices', 3: 'widl-bean'}\n",
       " orig_img: array([[[255, 242, 194],\n",
       "         [255, 242, 194],\n",
       "         [255, 242, 194],\n",
       "         ...,\n",
       "         [255, 255, 255],\n",
       "         [252, 255, 253],\n",
       "         [253, 255, 254]],\n",
       " \n",
       "        [[255, 242, 194],\n",
       "         [255, 242, 194],\n",
       "         [255, 242, 194],\n",
       "         ...,\n",
       "         [255, 254, 255],\n",
       "         [255, 255, 255],\n",
       "         [253, 255, 254]],\n",
       " \n",
       "        [[255, 241, 193],\n",
       "         [255, 241, 193],\n",
       "         [255, 242, 194],\n",
       "         ...,\n",
       "         [255, 255, 255],\n",
       "         [253, 255, 254],\n",
       "         [253, 255, 254]],\n",
       " \n",
       "        ...,\n",
       " \n",
       "        [[159, 128, 129],\n",
       "         [141, 113, 113],\n",
       "         [131, 105, 105],\n",
       "         ...,\n",
       "         [ 94, 122, 129],\n",
       "         [ 88, 117, 124],\n",
       "         [ 85, 114, 121]],\n",
       " \n",
       "        [[219, 188, 195],\n",
       "         [189, 161, 167],\n",
       "         [147, 122, 126],\n",
       "         ...,\n",
       "         [ 91, 120, 129],\n",
       "         [ 82, 113, 122],\n",
       "         [ 85, 116, 125]],\n",
       " \n",
       "        [[208, 177, 186],\n",
       "         [202, 173, 182],\n",
       "         [157, 134, 139],\n",
       "         ...,\n",
       "         [ 87, 116, 125],\n",
       "         [ 82, 113, 122],\n",
       "         [ 86, 117, 126]]], dtype=uint8)\n",
       " orig_shape: (2880, 2156)\n",
       " path: 'C:\\\\Users\\\\janek\\\\notebooks\\\\petrol-prices-object-detection\\\\custom_data\\\\orlen-ultimate-photo.jpg'\n",
       " probs: None\n",
       " speed: {'preprocess': 200.23298263549805, 'inference': 45.59755325317383, 'postprocess': 6.896495819091797}]"
      ]
     },
     "execution_count": 24,
     "metadata": {},
     "output_type": "execute_result"
    }
   ],
   "source": [
    "trained_myself(me)"
   ]
  },
  {
   "cell_type": "code",
   "execution_count": 25,
   "metadata": {},
   "outputs": [
    {
     "name": "stderr",
     "output_type": "stream",
     "text": [
      "\n",
      "image 1/1 C:\\Users\\janek\\notebooks\\petrol-prices-object-detection\\custom_data\\orlen-ultimate-photo.jpg: 640x480 1 orlen, 43.9ms\n",
      "Speed: 189.9ms preprocess, 43.9ms inference, 3.0ms postprocess per image at shape (1, 3, 640, 640)\n"
     ]
    },
    {
     "data": {
      "text/plain": [
       "[ultralytics.yolo.engine.results.Results object with attributes:\n",
       " \n",
       " boxes: ultralytics.yolo.engine.results.Boxes object\n",
       " keypoints: None\n",
       " keys: ['boxes']\n",
       " masks: None\n",
       " names: {0: 'circlek', 1: 'orlen', 2: 'prices', 3: 'widl-bean'}\n",
       " orig_img: array([[[255, 242, 194],\n",
       "         [255, 242, 194],\n",
       "         [255, 242, 194],\n",
       "         ...,\n",
       "         [255, 255, 255],\n",
       "         [252, 255, 253],\n",
       "         [253, 255, 254]],\n",
       " \n",
       "        [[255, 242, 194],\n",
       "         [255, 242, 194],\n",
       "         [255, 242, 194],\n",
       "         ...,\n",
       "         [255, 254, 255],\n",
       "         [255, 255, 255],\n",
       "         [253, 255, 254]],\n",
       " \n",
       "        [[255, 241, 193],\n",
       "         [255, 241, 193],\n",
       "         [255, 242, 194],\n",
       "         ...,\n",
       "         [255, 255, 255],\n",
       "         [253, 255, 254],\n",
       "         [253, 255, 254]],\n",
       " \n",
       "        ...,\n",
       " \n",
       "        [[159, 128, 129],\n",
       "         [141, 113, 113],\n",
       "         [131, 105, 105],\n",
       "         ...,\n",
       "         [ 94, 122, 129],\n",
       "         [ 88, 117, 124],\n",
       "         [ 85, 114, 121]],\n",
       " \n",
       "        [[219, 188, 195],\n",
       "         [189, 161, 167],\n",
       "         [147, 122, 126],\n",
       "         ...,\n",
       "         [ 91, 120, 129],\n",
       "         [ 82, 113, 122],\n",
       "         [ 85, 116, 125]],\n",
       " \n",
       "        [[208, 177, 186],\n",
       "         [202, 173, 182],\n",
       "         [157, 134, 139],\n",
       "         ...,\n",
       "         [ 87, 116, 125],\n",
       "         [ 82, 113, 122],\n",
       "         [ 86, 117, 126]]], dtype=uint8)\n",
       " orig_shape: (2880, 2156)\n",
       " path: 'C:\\\\Users\\\\janek\\\\notebooks\\\\petrol-prices-object-detection\\\\custom_data\\\\orlen-ultimate-photo.jpg'\n",
       " probs: None\n",
       " speed: {'preprocess': 189.94951248168945, 'inference': 43.88713836669922, 'postprocess': 2.993345260620117}]"
      ]
     },
     "execution_count": 25,
     "metadata": {},
     "output_type": "execute_result"
    }
   ],
   "source": [
    "trained_myself.predict(source=me)"
   ]
  }
 ],
 "metadata": {
  "kernelspec": {
   "display_name": "env",
   "language": "python",
   "name": "python3"
  },
  "language_info": {
   "codemirror_mode": {
    "name": "ipython",
    "version": 3
   },
   "file_extension": ".py",
   "mimetype": "text/x-python",
   "name": "python",
   "nbconvert_exporter": "python",
   "pygments_lexer": "ipython3",
   "version": "3.10.9"
  },
  "orig_nbformat": 4
 },
 "nbformat": 4,
 "nbformat_minor": 2
}
